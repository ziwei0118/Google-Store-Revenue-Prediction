{
 "cells": [
  {
   "cell_type": "markdown",
   "metadata": {
    "_cell_guid": "b1076dfc-b9ad-4769-8c92-a6c4dae69d19",
    "_uuid": "8f2839f25d086af736a60e9eeb907d3b93b6e0e5"
   },
   "source": [
    "# Random Forest"
   ]
  },
  {
   "cell_type": "markdown",
   "metadata": {},
   "source": [
    "This notebook shows our model training by using random forest. Parameter search including: number of estimators, max depth, min_samples_split, min_samples_leaf, max_features."
   ]
  },
  {
   "cell_type": "markdown",
   "metadata": {},
   "source": [
    "Import the libraries:"
   ]
  },
  {
   "cell_type": "code",
   "execution_count": 12,
   "metadata": {},
   "outputs": [],
   "source": [
    "import numpy as np \n",
    "import pandas as pd\n",
    "import gc\n",
    "import os\n",
    "import matplotlib.pyplot as plt\n",
    "\n",
    "from sklearn.ensemble import RandomForestRegressor\n",
    "from sklearn.model_selection import GridSearchCV\n",
    "from sklearn.metrics import mean_squared_error\n",
    "from sklearn.model_selection import train_test_split\n",
    "from random import sample"
   ]
  },
  {
   "cell_type": "markdown",
   "metadata": {
    "_cell_guid": "79c7e3d0-c299-4dcb-8224-4455121ee9b0",
    "_uuid": "d629ff2d2480ee46fbb7e2d37f6b5fab8052498a"
   },
   "source": [
    "## 1. Read Input"
   ]
  },
  {
   "cell_type": "code",
   "execution_count": 2,
   "metadata": {
    "_uuid": "800a84aa6432f74b37a06516bec5deba5a95b092"
   },
   "outputs": [],
   "source": [
    "gc.enable()\n",
    "df_train = pd.read_csv('train_P1.csv', dtype={'fullVisitorId': 'str'})\n",
    "df_test = pd.read_csv('test_P1.csv', dtype={'fullVisitorId': 'str'})"
   ]
  },
  {
   "cell_type": "code",
   "execution_count": 3,
   "metadata": {
    "_uuid": "5ebfaa1798ac742ec8464dd5f053fefd023ae10d"
   },
   "outputs": [],
   "source": [
    "df_trn, df_val = train_test_split(df_train, test_size=0.33, shuffle=False)\n",
    "\n",
    "y_train = df_train['totals.transactionRevenue']\n",
    "y_test = np.log1p(df_test['totals.transactionRevenue'].fillna(0))\n",
    "y_trn = df_trn['totals.transactionRevenue']\n",
    "y_val = df_val['totals.transactionRevenue']\n",
    "\n",
    "Id_train = df_train['fullVisitorId']\n",
    "Id_test  = df_test['fullVisitorId']\n",
    "Id_trn = df_trn['fullVisitorId']\n",
    "Id_val  = df_val['fullVisitorId']\n",
    "\n",
    "X_train = df_train.drop(['fullVisitorId', 'totals.transactionRevenue'], axis=1)\n",
    "X_test = df_test.drop(['fullVisitorId', 'totals.transactionRevenue'], axis=1)\n",
    "X_trn = df_trn.drop(['fullVisitorId', 'totals.transactionRevenue'], axis=1)\n",
    "X_val = df_val.drop(['fullVisitorId', 'totals.transactionRevenue'], axis=1)\n",
    "\n",
    "del df_train\n",
    "del df_test\n",
    "del df_trn\n",
    "del df_val"
   ]
  },
  {
   "cell_type": "markdown",
   "metadata": {
    "_uuid": "ca79762bc70922cef682c64cad9c6e4c16869198"
   },
   "source": [
    "## 2. Train Random Forest model"
   ]
  },
  {
   "cell_type": "code",
   "execution_count": 4,
   "metadata": {
    "_uuid": "bd30ffd097a24d55cc277e2dc7aa3072da7d4b73"
   },
   "outputs": [],
   "source": [
    "X_trn, X_val, y_trn, y_val = train_test_split(X_train, y_train, test_size=0.33, shuffle=False)"
   ]
  },
  {
   "cell_type": "code",
   "execution_count": 5,
   "metadata": {
    "_uuid": "32bae20421a46d98912a2cddc0c5618a0d896dad"
   },
   "outputs": [
    {
     "name": "stdout",
     "output_type": "stream",
     "text": [
      "n_estimators:    5 RMSE on train set:1.622769, val set:1.395382\n",
      "n_estimators:   55 RMSE on train set:1.612824, val set:1.380110\n",
      "n_estimators:  105 RMSE on train set:1.612649, val set:1.379877\n",
      "n_estimators:  155 RMSE on train set:1.612265, val set:1.379926\n",
      "n_estimators:  205 RMSE on train set:1.612003, val set:1.379907\n",
      "n_estimators:  255 RMSE on train set:1.611795, val set:1.379747\n"
     ]
    }
   ],
   "source": [
    "List_n_estimators = np.arange(5,301,50)\n",
    "\n",
    "for n_estimators in List_n_estimators:\n",
    "    rf = RandomForestRegressor(n_estimators=n_estimators,\n",
    "                            max_depth=14, \n",
    "                           max_features=0.6,\n",
    "                           min_samples_leaf=100, \n",
    "                           min_samples_split=200,\n",
    "                            n_jobs=-1,\n",
    "                          random_state=42)\n",
    "    \n",
    "    rf.fit(X_trn, y_trn)\n",
    "    yhat_trn = rf.predict(X_trn)\n",
    "    yhat_val = rf.predict(X_val)\n",
    "\n",
    "    print('n_estimators:{:5d} RMSE on train set:{:.6f}, val set:{:.6f}'.format(\n",
    "        n_estimators, \n",
    "        np.sqrt(mean_squared_error(yhat_trn, y_trn)),\n",
    "        np.sqrt(mean_squared_error(yhat_val, y_val)),\n",
    "        ))"
   ]
  },
  {
   "cell_type": "code",
   "execution_count": 6,
   "metadata": {
    "_uuid": "ec57d8bccf670d7cd2ccafc40e8bcb98302db90f"
   },
   "outputs": [
    {
     "name": "stdout",
     "output_type": "stream",
     "text": [
      "max_depth:    2 RMSE on train set:1.774579, val set:1.473338\n",
      "max_depth:    4 RMSE on train set:1.704117, val set:1.418833\n",
      "max_depth:    6 RMSE on train set:1.672229, val set:1.395687\n",
      "max_depth:    8 RMSE on train set:1.645586, val set:1.385174\n",
      "max_depth:   10 RMSE on train set:1.624481, val set:1.380794\n",
      "max_depth:   12 RMSE on train set:1.615426, val set:1.380637\n",
      "max_depth:   14 RMSE on train set:1.612754, val set:1.380263\n",
      "max_depth:   16 RMSE on train set:1.611392, val set:1.380419\n",
      "max_depth:   18 RMSE on train set:1.612047, val set:1.380536\n",
      "max_depth:   20 RMSE on train set:1.611848, val set:1.380508\n"
     ]
    }
   ],
   "source": [
    "List_max_depth = np.arange(2,21,2)\n",
    "\n",
    "for max_depth in List_max_depth:\n",
    "    rf = RandomForestRegressor(n_estimators=50,\n",
    "                            max_depth=max_depth, \n",
    "                           max_features=0.6,\n",
    "                           min_samples_leaf=100, \n",
    "                           min_samples_split=200,\n",
    "                            n_jobs=-1,\n",
    "                          random_state=42)\n",
    "    \n",
    "    rf.fit(X_trn, y_trn)\n",
    "    yhat_trn = rf.predict(X_trn)\n",
    "    yhat_val = rf.predict(X_val)\n",
    "\n",
    "    print('max_depth:{:5d} RMSE on train set:{:.6f}, val set:{:.6f}'.format(\n",
    "        max_depth, \n",
    "        np.sqrt(mean_squared_error(yhat_trn, y_trn)),\n",
    "        np.sqrt(mean_squared_error(yhat_val, y_val)),\n",
    "        ))\n"
   ]
  },
  {
   "cell_type": "code",
   "execution_count": 7,
   "metadata": {
    "_uuid": "af54da514eba4f0f28b69fff1099ceae5b60fbb3"
   },
   "outputs": [
    {
     "name": "stdout",
     "output_type": "stream",
     "text": [
      "min_samples_split:   50 RMSE on train set:1.611560, val set:1.379996\n",
      "min_samples_split:  100 RMSE on train set:1.611560, val set:1.379996\n",
      "min_samples_split:  150 RMSE on train set:1.611560, val set:1.379996\n",
      "min_samples_split:  200 RMSE on train set:1.611560, val set:1.379996\n"
     ]
    }
   ],
   "source": [
    "List_min_samples_split = np.arange(50,201,50)\n",
    "\n",
    "for min_samples_split in List_min_samples_split:\n",
    "    rf = RandomForestRegressor(n_estimators=200,\n",
    "                            max_depth=16, \n",
    "                           max_features=0.6,\n",
    "                           min_samples_leaf=100, \n",
    "                           min_samples_split=min_samples_split,\n",
    "                            n_jobs=-1,\n",
    "                          random_state=42)\n",
    "    \n",
    "    rf.fit(X_trn, y_trn)\n",
    "    yhat_trn = rf.predict(X_trn)\n",
    "    yhat_val = rf.predict(X_val)\n",
    "\n",
    "    print('min_samples_split:{:5d} RMSE on train set:{:.6f}, val set:{:.6f}'.format(\n",
    "        min_samples_split, \n",
    "        np.sqrt(mean_squared_error(yhat_trn, y_trn)),\n",
    "        np.sqrt(mean_squared_error(yhat_val, y_val)),\n",
    "        ))\n"
   ]
  },
  {
   "cell_type": "code",
   "execution_count": 8,
   "metadata": {
    "_uuid": "942152b3014aec0ace373a6e1b01daa50d7e416d"
   },
   "outputs": [
    {
     "name": "stdout",
     "output_type": "stream",
     "text": [
      "min_samples_leaf:   10 RMSE on train set:1.585353, val set:1.378526\n",
      "min_samples_leaf:   20 RMSE on train set:1.589786, val set:1.377965\n",
      "min_samples_leaf:   30 RMSE on train set:1.593012, val set:1.377724\n",
      "min_samples_leaf:   40 RMSE on train set:1.595818, val set:1.378153\n",
      "min_samples_leaf:   50 RMSE on train set:1.598912, val set:1.377932\n",
      "min_samples_leaf:   60 RMSE on train set:1.601428, val set:1.378817\n"
     ]
    }
   ],
   "source": [
    "List_min_samples_leaf = np.arange(10,61,10)\n",
    "\n",
    "for min_samples_leaf in List_min_samples_leaf:\n",
    "    rf = RandomForestRegressor(n_estimators=200,\n",
    "                            max_depth=16, \n",
    "                           max_features=0.6,\n",
    "                           min_samples_leaf=min_samples_leaf, \n",
    "                           min_samples_split=200,\n",
    "                            n_jobs=-1,\n",
    "                          random_state=42)\n",
    "    \n",
    "    rf.fit(X_trn, y_trn)\n",
    "    yhat_trn = rf.predict(X_trn)\n",
    "    yhat_val = rf.predict(X_val)\n",
    "\n",
    "    print('min_samples_leaf:{:5d} RMSE on train set:{:.6f}, val set:{:.6f}'.format(\n",
    "        min_samples_leaf, \n",
    "        np.sqrt(mean_squared_error(yhat_trn, y_trn)),\n",
    "        np.sqrt(mean_squared_error(yhat_val, y_val)),\n",
    "        ))\n"
   ]
  },
  {
   "cell_type": "code",
   "execution_count": 13,
   "metadata": {
    "_uuid": "ebc73a761334065521337534b518899a17ab3579"
   },
   "outputs": [
    {
     "name": "stdout",
     "output_type": "stream",
     "text": [
      "max_features:0.10 RMSE on train set:1.679659, val set:1.394246\n",
      "max_features:0.20 RMSE on train set:1.627270, val set:1.382678\n",
      "max_features:0.30 RMSE on train set:1.612766, val set:1.378627\n",
      "max_features:0.40 RMSE on train set:1.605835, val set:1.377430\n",
      "max_features:0.50 RMSE on train set:1.601621, val set:1.377388\n",
      "max_features:0.60 RMSE on train set:1.598912, val set:1.377932\n",
      "max_features:0.70 RMSE on train set:1.596881, val set:1.379544\n",
      "max_features:0.80 RMSE on train set:1.595514, val set:1.380006\n",
      "max_features:0.90 RMSE on train set:1.595260, val set:1.380826\n",
      "max_features:1.00 RMSE on train set:1.595051, val set:1.382179\n"
     ]
    }
   ],
   "source": [
    "List_max_features = np.arange(0.1, 1.1, 0.1)\n",
    "\n",
    "for max_features in List_max_features:\n",
    "    rf = RandomForestRegressor(n_estimators=200,\n",
    "                            max_depth=16, \n",
    "                           max_features=max_features,\n",
    "                           min_samples_leaf=50, \n",
    "                           min_samples_split=200,\n",
    "                            n_jobs=-1,\n",
    "                          random_state=42)\n",
    "    \n",
    "    rf.fit(X_trn, y_trn)\n",
    "    yhat_trn = rf.predict(X_trn)\n",
    "    yhat_val = rf.predict(X_val)\n",
    "\n",
    "    print('max_features:{:.2f} RMSE on train set:{:.6f}, val set:{:.6f}'.format(\n",
    "        max_features, \n",
    "        np.sqrt(mean_squared_error(yhat_trn, y_trn)),\n",
    "        np.sqrt(mean_squared_error(yhat_val, y_val)),\n",
    "        ))\n"
   ]
  },
  {
   "cell_type": "markdown",
   "metadata": {
    "_uuid": "3dd0fedcaaf56fa1fd7cada903ff0828ed688bfd"
   },
   "source": [
    "## 3. Deploy the Final Model"
   ]
  },
  {
   "cell_type": "code",
   "execution_count": 14,
   "metadata": {
    "_uuid": "5e9afb98a28b96bb659fbc37915efeb1034f0a8a"
   },
   "outputs": [
    {
     "name": "stdout",
     "output_type": "stream",
     "text": [
      "RMSE on \n",
      "training set::1.515344\n",
      "val set::1.377388\n",
      "test set:1.377724\n"
     ]
    }
   ],
   "source": [
    "rf = RandomForestRegressor(n_estimators=200,\n",
    "                            max_depth=16, \n",
    "                           max_features=0.5,\n",
    "                           min_samples_leaf=50, \n",
    "                           min_samples_split=200,\n",
    "                            n_jobs=-1,\n",
    "                          random_state=42)\n",
    "\n",
    "rf.fit(X_trn, y_trn)\n",
    "yhat_val=rf.predict(X_val)\n",
    "rf.fit(X_train, y_train)\n",
    "yhat_train=rf.predict(X_train)\n",
    "yhat_test=rf.predict(X_test)\n",
    "print('RMSE on \\ntraining set::{:.6f}\\nval set::{:.6f}\\ntest set:{:.6f}'.format(np.sqrt(mean_squared_error(yhat_train, y_train)),\n",
    "                                                                                np.sqrt(mean_squared_error(yhat_val, y_val)),\n",
    "                                                               np.sqrt(mean_squared_error(yhat_test, y_test))))"
   ]
  },
  {
   "cell_type": "markdown",
   "metadata": {},
   "source": [
    "Plot feature importance:"
   ]
  },
  {
   "cell_type": "code",
   "execution_count": 15,
   "metadata": {
    "_uuid": "ced89816e711b87615cd39b7950c4fa94bcee33d"
   },
   "outputs": [
    {
     "name": "stdout",
     "output_type": "stream",
     "text": [
      "                                              feature importance\n",
      "totals.pageviews                                        0.370023\n",
      "totals.hits                                             0.150729\n",
      "totals.timeOnSite                                       0.096110\n",
      "geoNetwork.country                                      0.078236\n",
      "trafficSource.referralPath                              0.055412\n",
      "visitNumber                                             0.053394\n",
      "totals.sessionQualityDim                                0.051802\n",
      "customDimensions.value                                  0.030537\n",
      "month                                                   0.020926\n",
      "geoNetwork.continent                                    0.013503\n",
      "channelGrouping                                         0.010482\n",
      "device.isMobile                                         0.008723\n",
      "geoNetwork.region                                       0.008546\n",
      "device.deviceCategory                                   0.007985\n",
      "day                                                     0.006980\n",
      "geoNetwork.metro                                        0.006974\n",
      "device.operatingSystem                                  0.005812\n",
      "geoNetwork.city                                         0.004333\n",
      "weekday                                                 0.003936\n",
      "trafficSource.source                                    0.003405\n",
      "trafficSource.medium                                    0.003334\n",
      "year                                                    0.003257\n",
      "geoNetwork.subContinent                                 0.003221\n",
      "device.browser                                          0.002172\n",
      "trafficSource.adwordsClickInfo.slot                     0.000059\n",
      "trafficSource.campaign                                  0.000047\n",
      "trafficSource.adwordsClickInfo.page                     0.000033\n",
      "trafficSource.adwordsClickInfo.adNetworkType            0.000026\n",
      "trafficSource.adContent                                 0.000005\n"
     ]
    },
    {
     "data": {
      "image/png": "[encoded data removed]",
      "text/plain": [
       "<Figure size 432x864 with 1 Axes>"
      ]
     },
     "metadata": {
      "needs_background": "light"
     },
     "output_type": "display_data"
    }
   ],
   "source": [
    "print(pd.DataFrame([rf.feature_importances_], columns = X_train.columns, index = ['feature importance']).transpose().sort_values(by='feature importance', ascending=False))\n",
    "\n",
    "feature_importance = rf.feature_importances_\n",
    "# make importances relative to max importance\n",
    "feature_importance = 100.0 * (feature_importance / feature_importance.max())\n",
    "sorted_idx = np.argsort(feature_importance)\n",
    "pos = np.arange(sorted_idx.shape[0]) + .5\n",
    "\n",
    "plt.figure(figsize=(6, 12))\n",
    "plt.barh(pos, feature_importance[sorted_idx], align='center')\n",
    "plt.yticks(pos, X_train.columns[sorted_idx])\n",
    "plt.xlabel('Relative Importance')\n",
    "plt.title('Feature Importance')\n",
    "plt.show()"
   ]
  },
  {
   "cell_type": "markdown",
   "metadata": {
    "_uuid": "a4bf56f792b81099fe8c0eeef2fe6f3631164de8"
   },
   "source": [
    "Postprocessing:"
   ]
  },
  {
   "cell_type": "code",
   "execution_count": 16,
   "metadata": {
    "_uuid": "029407e3d13425b9d89c3cf7a56489d2da65cfe7"
   },
   "outputs": [],
   "source": [
    "def RMSE_group(Id, y, yhat, setName):\n",
    "    df_final = pd.DataFrame({\"fullVisitorId\":Id})\n",
    "    df_final['PredictedLogRevenue'] = np.expm1(yhat)\n",
    "\n",
    "    df_final = df_final.groupby('fullVisitorId')['PredictedLogRevenue'].sum().reset_index()\n",
    "    df_final.columns = ['fullVisitorId', 'PredictedLogRevenue']\n",
    "    df_final['PredictedLogRevenue'] = np.log1p(df_final['PredictedLogRevenue'])\n",
    "    \n",
    "    \n",
    "    df_true = pd.DataFrame({\"fullVisitorId\":Id})\n",
    "    df_true['TrueLogRevenue'] = np.expm1(y)\n",
    "        \n",
    "    df_true = df_true.groupby('fullVisitorId')['TrueLogRevenue'].sum().reset_index()\n",
    "    df_true.columns = ['fullVisitorId', 'TrueLogRevenue']\n",
    "    df_true['TrueLogRevenue'] = np.log1p(df_true['TrueLogRevenue'])\n",
    "\n",
    "    print('RMSE on ', setName, ' set:', \n",
    "      np.sqrt(mean_squared_error(df_final['PredictedLogRevenue'], df_true['TrueLogRevenue'])))"
   ]
  },
  {
   "cell_type": "code",
   "execution_count": 17,
   "metadata": {
    "_uuid": "efd01d6d20fb5e73bc7e025deed37e387a47e0fa"
   },
   "outputs": [
    {
     "name": "stdout",
     "output_type": "stream",
     "text": [
      "RMSE on  train  set: 1.513052851825421\n",
      "RMSE on  validation  set: 1.4092570405159544\n",
      "RMSE on  test  set: 1.4311106270914984\n"
     ]
    }
   ],
   "source": [
    "RMSE_group(Id_train, y_train, yhat_train, 'train')\n",
    "RMSE_group(Id_val, y_val, yhat_val, 'validation')\n",
    "RMSE_group(Id_test, y_test, yhat_test, 'test')"
   ]
  },
  {
   "cell_type": "code",
   "execution_count": null,
   "metadata": {
    "_uuid": "ea2bbfa9ce56be8fbf2566a27ebbb8052699ebb3"
   },
   "outputs": [],
   "source": []
  },
  {
   "cell_type": "code",
   "execution_count": null,
   "metadata": {
    "_uuid": "9146010a3774c4375c73ab03d20d20e34ab6f115"
   },
   "outputs": [],
   "source": []
  }
 ],
 "metadata": {
  "kernelspec": {
   "display_name": "Python 3",
   "language": "python",
   "name": "python3"
  },
  "language_info": {
   "codemirror_mode": {
    "name": "ipython",
    "version": 3
   },
   "file_extension": ".py",
   "mimetype": "text/x-python",
   "name": "python",
   "nbconvert_exporter": "python",
   "pygments_lexer": "ipython3",
   "version": "3.7.0"
  }
 },
 "nbformat": 4,
 "nbformat_minor": 2
}
