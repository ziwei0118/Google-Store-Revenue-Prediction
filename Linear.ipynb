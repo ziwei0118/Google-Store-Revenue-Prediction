{
 "cells": [
  {
   "cell_type": "markdown",
   "metadata": {
    "_cell_guid": "b1076dfc-b9ad-4769-8c92-a6c4dae69d19",
    "_uuid": "8f2839f25d086af736a60e9eeb907d3b93b6e0e5"
   },
   "source": [
    "# Linear Regreesion/Lasso/Ridge"
   ]
  },
  {
   "cell_type": "markdown",
   "metadata": {},
   "source": [
    "This notebook shows our model training by using linear regresson, Lasso and ridge."
   ]
  },
  {
   "cell_type": "markdown",
   "metadata": {},
   "source": [
    "Import the libraries:"
   ]
  },
  {
   "cell_type": "code",
   "execution_count": 1,
   "metadata": {},
   "outputs": [],
   "source": [
    "import numpy as np \n",
    "import pandas as pd\n",
    "import matplotlib.pyplot as plt\n",
    "import os\n",
    "import gc\n",
    "\n",
    "from sklearn import linear_model\n",
    "from sklearn.preprocessing import StandardScaler\n",
    "from sklearn.metrics import mean_squared_error\n",
    "from sklearn.model_selection import train_test_split"
   ]
  },
  {
   "cell_type": "markdown",
   "metadata": {
    "_cell_guid": "79c7e3d0-c299-4dcb-8224-4455121ee9b0",
    "_uuid": "d629ff2d2480ee46fbb7e2d37f6b5fab8052498a"
   },
   "source": [
    "## 1. Read Input"
   ]
  },
  {
   "cell_type": "code",
   "execution_count": 2,
   "metadata": {
    "_uuid": "800a84aa6432f74b37a06516bec5deba5a95b092"
   },
   "outputs": [],
   "source": [
    "gc.enable()\n",
    "df_train = pd.read_csv('train_P1.csv', dtype={'fullVisitorId': 'str'})\n",
    "df_test = pd.read_csv('test_P1.csv', dtype={'fullVisitorId': 'str'})"
   ]
  },
  {
   "cell_type": "code",
   "execution_count": 3,
   "metadata": {
    "_uuid": "5ebfaa1798ac742ec8464dd5f053fefd023ae10d"
   },
   "outputs": [],
   "source": [
    "df_trn, df_val = train_test_split(df_train, test_size=0.33)\n",
    "\n",
    "y_train = df_train['totals.transactionRevenue']\n",
    "y_test = np.log1p(df_test['totals.transactionRevenue'].fillna(0))\n",
    "y_trn = df_trn['totals.transactionRevenue']\n",
    "y_val = df_val['totals.transactionRevenue']\n",
    "\n",
    "Id_train = df_train['fullVisitorId']\n",
    "Id_test  = df_test['fullVisitorId']\n",
    "Id_trn = df_trn['fullVisitorId']\n",
    "Id_val  = df_val['fullVisitorId']\n",
    "\n",
    "X_train = df_train.drop(['fullVisitorId', 'totals.transactionRevenue'], axis=1)\n",
    "X_test = df_test.drop(['fullVisitorId', 'totals.transactionRevenue'], axis=1)\n",
    "X_trn = df_trn.drop(['fullVisitorId', 'totals.transactionRevenue'], axis=1)\n",
    "X_val = df_val.drop(['fullVisitorId', 'totals.transactionRevenue'], axis=1)\n",
    "\n",
    "del df_train\n",
    "del df_test\n",
    "del df_trn\n",
    "del df_val"
   ]
  },
  {
   "cell_type": "markdown",
   "metadata": {},
   "source": [
    "standarization:"
   ]
  },
  {
   "cell_type": "code",
   "execution_count": 4,
   "metadata": {},
   "outputs": [],
   "source": [
    "col_name = X_train.columns\n",
    "\n",
    "scaler = StandardScaler()\n",
    "scaler.fit(X_train)\n",
    "X_train = pd.DataFrame(scaler.transform(X_train), columns = col_name)\n",
    "X_test = pd.DataFrame(scaler.transform(X_test), columns = col_name)"
   ]
  },
  {
   "cell_type": "markdown",
   "metadata": {},
   "source": [
    "Define some functions:"
   ]
  },
  {
   "cell_type": "code",
   "execution_count": 5,
   "metadata": {},
   "outputs": [],
   "source": [
    "def initialize_list():\n",
    "    Coef_list = pd.DataFrame(columns=X_train.columns)\n",
    "    RMSE_list = pd.DataFrame(columns=['RMSE_train','RMSE_val','RMSE_test'])\n",
    "    \n",
    "    return Coef_list, RMSE_list\n",
    "\n",
    "def update_list(Coef_list, RMSE_list, Coef, RMSE):\n",
    "    Coef_list = Coef_list.append(Coef,ignore_index=True)\n",
    "    RMSE_list = RMSE_list.append(RMSE,ignore_index=True)\n",
    "    \n",
    "    return Coef_list, RMSE_list\n",
    "\n",
    "def fit_data(reg, X_trn,X_val,X_test,y_trn,y_val,y_test):\n",
    "    reg.fit(X_trn,y_trn)\n",
    "    y_pred_trn = reg.predict(X_trn)\n",
    "    y_pred_val = reg.predict(X_val)\n",
    "    y_pred_test = reg.predict(X_test)\n",
    "\n",
    "    RMSE_trn = np.sqrt(mean_squared_error(y_trn, y_pred_trn))   \n",
    "    RMSE_val = np.sqrt(mean_squared_error(y_val, y_pred_val))\n",
    "    RMSE_test = np.sqrt(mean_squared_error(y_test, y_pred_test))\n",
    "    \n",
    "    Coef = pd.DataFrame.transpose(pd.DataFrame(reg.coef_, index = X_trn.columns))\n",
    "    RMSE = pd.DataFrame([[RMSE_trn,RMSE_val,RMSE_test]],columns=['RMSE_train','RMSE_val','RMSE_test'])\n",
    "    \n",
    "    return Coef, RMSE\n",
    "\n",
    "def RMSE_group(Id, y, yhat, setName):\n",
    "    df_final = pd.DataFrame({\"fullVisitorId\":Id})\n",
    "    df_final['PredictedLogRevenue'] = np.expm1(yhat)\n",
    "\n",
    "    df_final = df_final.groupby('fullVisitorId')['PredictedLogRevenue'].sum().reset_index()\n",
    "    df_final.columns = ['fullVisitorId', 'PredictedLogRevenue']\n",
    "    df_final['PredictedLogRevenue'] = np.log1p(df_final['PredictedLogRevenue'])\n",
    "    \n",
    "    \n",
    "    df_true = pd.DataFrame({\"fullVisitorId\":Id})\n",
    "    df_true['TrueLogRevenue'] = np.expm1(y)\n",
    "        \n",
    "    df_true = df_true.groupby('fullVisitorId')['TrueLogRevenue'].sum().reset_index()\n",
    "    df_true.columns = ['fullVisitorId', 'TrueLogRevenue']\n",
    "    df_true['TrueLogRevenue'] = np.log1p(df_true['TrueLogRevenue'])\n",
    "\n",
    "    print('RMSE on ', setName, ' set:', \n",
    "      np.sqrt(mean_squared_error(df_final['PredictedLogRevenue'], df_true['TrueLogRevenue'])))\n"
   ]
  },
  {
   "cell_type": "markdown",
   "metadata": {
    "_uuid": "ca79762bc70922cef682c64cad9c6e4c16869198"
   },
   "source": [
    "## 2. Linear Regression"
   ]
  },
  {
   "cell_type": "code",
   "execution_count": 6,
   "metadata": {
    "_uuid": "ced89816e711b87615cd39b7950c4fa94bcee33d"
   },
   "outputs": [
    {
     "name": "stdout",
     "output_type": "stream",
     "text": [
      "RMSE on \n",
      "training set:1.706329\n",
      "     val set:1.695255\n",
      "    test set:1.480720\n"
     ]
    }
   ],
   "source": [
    "lm = linear_model.LinearRegression()\n",
    "lm.fit(X_train, y_train)\n",
    "\n",
    "yhat_train = lm.predict(X_train)\n",
    "yhat_test = lm.predict(X_test)\n",
    "yhat_train[yhat_train<0] = 0\n",
    "yhat_test[yhat_test<0] = 0\n",
    "\n",
    "lm.fit(X_trn, y_trn)\n",
    "yhat_val=lm.predict(X_val)\n",
    "yhat_val[yhat_val<0] = 0\n",
    "lm.fit(X_train, y_train)\n",
    "yhat_train=lm.predict(X_train)\n",
    "yhat_train[yhat_train<0] = 0\n",
    "yhat_test=lm.predict(X_test)\n",
    "yhat_test[yhat_test<0] = 0\n",
    "print('RMSE on \\ntraining set:{:.6f}\\n     val set:{:.6f}\\n    test set:{:.6f}'.format(np.sqrt(mean_squared_error(yhat_train, y_train)),\n",
    "                                                                                np.sqrt(mean_squared_error(yhat_val, y_val)),\n",
    "                                                               np.sqrt(mean_squared_error(yhat_test, y_test))))"
   ]
  },
  {
   "cell_type": "code",
   "execution_count": 7,
   "metadata": {
    "_uuid": "8f703bacc4fbfb57b723725f8a1a845a44e00dd6"
   },
   "outputs": [
    {
     "data": {
      "text/plain": [
       "count    343084.000000\n",
       "mean          0.333143\n",
       "std           0.871962\n",
       "min           0.000000\n",
       "25%           0.000000\n",
       "50%           0.000000\n",
       "75%           0.243247\n",
       "max          46.676039\n",
       "dtype: float64"
      ]
     },
     "execution_count": 7,
     "metadata": {},
     "output_type": "execute_result"
    }
   ],
   "source": [
    "pd.Series(yhat_test).describe()"
   ]
  },
  {
   "cell_type": "markdown",
   "metadata": {
    "_uuid": "a4bf56f792b81099fe8c0eeef2fe6f3631164de8"
   },
   "source": [
    "Postprocessing:"
   ]
  },
  {
   "cell_type": "code",
   "execution_count": 8,
   "metadata": {
    "_uuid": "efd01d6d20fb5e73bc7e025deed37e387a47e0fa"
   },
   "outputs": [
    {
     "name": "stdout",
     "output_type": "stream",
     "text": [
      "RMSE on  train  set: 1.7426793886092309\n",
      "RMSE on  validation  set: 1.718036810870003\n",
      "RMSE on  test  set: 1.5627121971808704\n"
     ]
    }
   ],
   "source": [
    "RMSE_group(Id_train, y_train, yhat_train, 'train')\n",
    "RMSE_group(Id_val, y_val, yhat_val, 'validation')\n",
    "RMSE_group(Id_test, y_test, yhat_test, 'test')"
   ]
  },
  {
   "cell_type": "markdown",
   "metadata": {
    "_uuid": "ea2bbfa9ce56be8fbf2566a27ebbb8052699ebb3"
   },
   "source": [
    "## 3. Ridge"
   ]
  },
  {
   "cell_type": "code",
   "execution_count": 9,
   "metadata": {},
   "outputs": [],
   "source": [
    "lam_list_ridge = np.arange(0, 100000, 10000)"
   ]
  },
  {
   "cell_type": "code",
   "execution_count": 10,
   "metadata": {},
   "outputs": [
    {
     "name": "stdout",
     "output_type": "stream",
     "text": [
      "0\n",
      "10000\n",
      "20000\n",
      "30000\n",
      "40000\n",
      "50000\n",
      "60000\n",
      "70000\n",
      "80000\n",
      "90000\n"
     ]
    },
    {
     "data": {
      "text/html": [
       "<div>\n",
       "<style scoped>\n",
       "    .dataframe tbody tr th:only-of-type {\n",
       "        vertical-align: middle;\n",
       "    }\n",
       "\n",
       "    .dataframe tbody tr th {\n",
       "        vertical-align: top;\n",
       "    }\n",
       "\n",
       "    .dataframe thead th {\n",
       "        text-align: right;\n",
       "    }\n",
       "</style>\n",
       "<table border=\"1\" class=\"dataframe\">\n",
       "  <thead>\n",
       "    <tr style=\"text-align: right;\">\n",
       "      <th></th>\n",
       "      <th>lambda</th>\n",
       "      <th>RMSE_train</th>\n",
       "      <th>RMSE_val</th>\n",
       "      <th>RMSE_test</th>\n",
       "    </tr>\n",
       "  </thead>\n",
       "  <tbody>\n",
       "    <tr>\n",
       "      <th>0</th>\n",
       "      <td>0</td>\n",
       "      <td>1.716557</td>\n",
       "      <td>1.700471</td>\n",
       "      <td>1.567363</td>\n",
       "    </tr>\n",
       "    <tr>\n",
       "      <th>1</th>\n",
       "      <td>10000</td>\n",
       "      <td>1.716606</td>\n",
       "      <td>1.700402</td>\n",
       "      <td>1.567946</td>\n",
       "    </tr>\n",
       "    <tr>\n",
       "      <th>2</th>\n",
       "      <td>20000</td>\n",
       "      <td>1.716659</td>\n",
       "      <td>1.700368</td>\n",
       "      <td>1.567694</td>\n",
       "    </tr>\n",
       "    <tr>\n",
       "      <th>3</th>\n",
       "      <td>30000</td>\n",
       "      <td>1.716708</td>\n",
       "      <td>1.700340</td>\n",
       "      <td>1.567433</td>\n",
       "    </tr>\n",
       "    <tr>\n",
       "      <th>4</th>\n",
       "      <td>40000</td>\n",
       "      <td>1.716753</td>\n",
       "      <td>1.700316</td>\n",
       "      <td>1.567248</td>\n",
       "    </tr>\n",
       "    <tr>\n",
       "      <th>5</th>\n",
       "      <td>50000</td>\n",
       "      <td>1.716795</td>\n",
       "      <td>1.700293</td>\n",
       "      <td>1.567127</td>\n",
       "    </tr>\n",
       "    <tr>\n",
       "      <th>6</th>\n",
       "      <td>60000</td>\n",
       "      <td>1.716836</td>\n",
       "      <td>1.700272</td>\n",
       "      <td>1.567052</td>\n",
       "    </tr>\n",
       "    <tr>\n",
       "      <th>7</th>\n",
       "      <td>70000</td>\n",
       "      <td>1.716876</td>\n",
       "      <td>1.700253</td>\n",
       "      <td>1.567011</td>\n",
       "    </tr>\n",
       "    <tr>\n",
       "      <th>8</th>\n",
       "      <td>80000</td>\n",
       "      <td>1.716914</td>\n",
       "      <td>1.700235</td>\n",
       "      <td>1.566995</td>\n",
       "    </tr>\n",
       "    <tr>\n",
       "      <th>9</th>\n",
       "      <td>90000</td>\n",
       "      <td>1.716953</td>\n",
       "      <td>1.700219</td>\n",
       "      <td>1.566997</td>\n",
       "    </tr>\n",
       "  </tbody>\n",
       "</table>\n",
       "</div>"
      ],
      "text/plain": [
       "   lambda  RMSE_train  RMSE_val  RMSE_test\n",
       "0       0    1.716557  1.700471   1.567363\n",
       "1   10000    1.716606  1.700402   1.567946\n",
       "2   20000    1.716659  1.700368   1.567694\n",
       "3   30000    1.716708  1.700340   1.567433\n",
       "4   40000    1.716753  1.700316   1.567248\n",
       "5   50000    1.716795  1.700293   1.567127\n",
       "6   60000    1.716836  1.700272   1.567052\n",
       "7   70000    1.716876  1.700253   1.567011\n",
       "8   80000    1.716914  1.700235   1.566995\n",
       "9   90000    1.716953  1.700219   1.566997"
      ]
     },
     "execution_count": 10,
     "metadata": {},
     "output_type": "execute_result"
    }
   ],
   "source": [
    "Coef_ridge_train,RMSE_ridge_train = initialize_list()\n",
    "\n",
    "for lam in lam_list_ridge:\n",
    "    print(lam)\n",
    "    reg = linear_model.Ridge(alpha = lam, fit_intercept=False)\n",
    "    Coef,RMSE = fit_data(reg, X_trn, X_val, X_test, y_trn, y_val, y_test)\n",
    "    Coef_ridge_train,RMSE_ridge_train = update_list(Coef_ridge_train, RMSE_ridge_train, Coef, RMSE)\n",
    "    \n",
    "Coef_ridge_train = pd.concat([pd.DataFrame(lam_list_ridge, columns=['lambda']), Coef_ridge_train], axis = 1)\n",
    "Table_ridge_train = pd.concat([pd.DataFrame(lam_list_ridge, columns=['lambda']), RMSE_ridge_train], axis = 1)\n",
    "Table_ridge_train"
   ]
  },
  {
   "cell_type": "markdown",
   "metadata": {},
   "source": [
    "Postprocessing:"
   ]
  },
  {
   "cell_type": "code",
   "execution_count": 11,
   "metadata": {},
   "outputs": [],
   "source": [
    "reg = linear_model.Ridge(alpha = 0, fit_intercept=False)\n",
    "Coef,RMSE = fit_data(reg, X_trn, X_val, X_test, y_trn, y_val, y_test)"
   ]
  },
  {
   "cell_type": "code",
   "execution_count": 12,
   "metadata": {},
   "outputs": [
    {
     "name": "stdout",
     "output_type": "stream",
     "text": [
      "RMSE on  train  set: 1.7426793886092309\n",
      "RMSE on  validation  set: 1.718036810870003\n",
      "RMSE on  test  set: 1.5627121971808704\n"
     ]
    }
   ],
   "source": [
    "RMSE_group(Id_train, y_train, yhat_train, 'train')\n",
    "RMSE_group(Id_val, y_val, yhat_val, 'validation')\n",
    "RMSE_group(Id_test, y_test, yhat_test, 'test')"
   ]
  },
  {
   "cell_type": "markdown",
   "metadata": {},
   "source": [
    "## 4. Lasso"
   ]
  },
  {
   "cell_type": "code",
   "execution_count": 13,
   "metadata": {},
   "outputs": [],
   "source": [
    "lam_list_lasso = np.arange(1, 11, 1)"
   ]
  },
  {
   "cell_type": "code",
   "execution_count": 14,
   "metadata": {},
   "outputs": [
    {
     "name": "stdout",
     "output_type": "stream",
     "text": [
      "1\n",
      "2\n",
      "3\n",
      "4\n",
      "5\n",
      "6\n",
      "7\n",
      "8\n",
      "9\n",
      "10\n"
     ]
    },
    {
     "data": {
      "text/html": [
       "<div>\n",
       "<style scoped>\n",
       "    .dataframe tbody tr th:only-of-type {\n",
       "        vertical-align: middle;\n",
       "    }\n",
       "\n",
       "    .dataframe tbody tr th {\n",
       "        vertical-align: top;\n",
       "    }\n",
       "\n",
       "    .dataframe thead th {\n",
       "        text-align: right;\n",
       "    }\n",
       "</style>\n",
       "<table border=\"1\" class=\"dataframe\">\n",
       "  <thead>\n",
       "    <tr style=\"text-align: right;\">\n",
       "      <th></th>\n",
       "      <th>lambda</th>\n",
       "      <th>RMSE_train</th>\n",
       "      <th>RMSE_val</th>\n",
       "      <th>RMSE_test</th>\n",
       "    </tr>\n",
       "  </thead>\n",
       "  <tbody>\n",
       "    <tr>\n",
       "      <th>0</th>\n",
       "      <td>1</td>\n",
       "      <td>1.749128</td>\n",
       "      <td>1.724481</td>\n",
       "      <td>1.596405</td>\n",
       "    </tr>\n",
       "    <tr>\n",
       "      <th>1</th>\n",
       "      <td>2</td>\n",
       "      <td>1.775650</td>\n",
       "      <td>1.749797</td>\n",
       "      <td>1.611463</td>\n",
       "    </tr>\n",
       "    <tr>\n",
       "      <th>2</th>\n",
       "      <td>3</td>\n",
       "      <td>1.812421</td>\n",
       "      <td>1.785508</td>\n",
       "      <td>1.623116</td>\n",
       "    </tr>\n",
       "    <tr>\n",
       "      <th>3</th>\n",
       "      <td>4</td>\n",
       "      <td>1.828518</td>\n",
       "      <td>1.801122</td>\n",
       "      <td>1.625309</td>\n",
       "    </tr>\n",
       "    <tr>\n",
       "      <th>4</th>\n",
       "      <td>5</td>\n",
       "      <td>1.828535</td>\n",
       "      <td>1.801113</td>\n",
       "      <td>1.625310</td>\n",
       "    </tr>\n",
       "    <tr>\n",
       "      <th>5</th>\n",
       "      <td>6</td>\n",
       "      <td>1.828556</td>\n",
       "      <td>1.801108</td>\n",
       "      <td>1.625312</td>\n",
       "    </tr>\n",
       "    <tr>\n",
       "      <th>6</th>\n",
       "      <td>7</td>\n",
       "      <td>1.828581</td>\n",
       "      <td>1.801107</td>\n",
       "      <td>1.625313</td>\n",
       "    </tr>\n",
       "    <tr>\n",
       "      <th>7</th>\n",
       "      <td>8</td>\n",
       "      <td>1.828610</td>\n",
       "      <td>1.801109</td>\n",
       "      <td>1.625314</td>\n",
       "    </tr>\n",
       "    <tr>\n",
       "      <th>8</th>\n",
       "      <td>9</td>\n",
       "      <td>1.828643</td>\n",
       "      <td>1.801116</td>\n",
       "      <td>1.625315</td>\n",
       "    </tr>\n",
       "    <tr>\n",
       "      <th>9</th>\n",
       "      <td>10</td>\n",
       "      <td>1.828680</td>\n",
       "      <td>1.801126</td>\n",
       "      <td>1.625317</td>\n",
       "    </tr>\n",
       "  </tbody>\n",
       "</table>\n",
       "</div>"
      ],
      "text/plain": [
       "   lambda  RMSE_train  RMSE_val  RMSE_test\n",
       "0       1    1.749128  1.724481   1.596405\n",
       "1       2    1.775650  1.749797   1.611463\n",
       "2       3    1.812421  1.785508   1.623116\n",
       "3       4    1.828518  1.801122   1.625309\n",
       "4       5    1.828535  1.801113   1.625310\n",
       "5       6    1.828556  1.801108   1.625312\n",
       "6       7    1.828581  1.801107   1.625313\n",
       "7       8    1.828610  1.801109   1.625314\n",
       "8       9    1.828643  1.801116   1.625315\n",
       "9      10    1.828680  1.801126   1.625317"
      ]
     },
     "execution_count": 14,
     "metadata": {},
     "output_type": "execute_result"
    }
   ],
   "source": [
    "Coef_lasso_train,RMSE_lasso_train = initialize_list()\n",
    "\n",
    "for lam in lam_list_lasso:\n",
    "    print(lam)\n",
    "    reg = linear_model.Lasso(alpha = lam, fit_intercept=False)\n",
    "    Coef,RMSE = fit_data(reg, X_trn, X_val, X_test, y_trn, y_val, y_test)\n",
    "    Coef_lasso_train,RMSE_lasso_train = update_list(Coef_lasso_train, RMSE_lasso_train, Coef, RMSE)\n",
    "    \n",
    "Coef_lasso_train = pd.concat([pd.DataFrame(lam_list_lasso, columns=['lambda']), Coef_lasso_train], axis = 1)\n",
    "Table_lasso_train = pd.concat([pd.DataFrame(lam_list_lasso, columns=['lambda']), RMSE_lasso_train], axis = 1)\n",
    "Table_lasso_train"
   ]
  },
  {
   "cell_type": "markdown",
   "metadata": {},
   "source": [
    "Postprocessing:"
   ]
  },
  {
   "cell_type": "code",
   "execution_count": 15,
   "metadata": {},
   "outputs": [],
   "source": [
    "reg = linear_model.Lasso(alpha = 1, fit_intercept=False)\n",
    "Coef,RMSE = fit_data(reg, X_trn, X_val, X_test, y_trn, y_val, y_test)"
   ]
  },
  {
   "cell_type": "code",
   "execution_count": 16,
   "metadata": {},
   "outputs": [
    {
     "name": "stdout",
     "output_type": "stream",
     "text": [
      "RMSE on  train  set: 1.7426793886092309\n",
      "RMSE on  validation  set: 1.718036810870003\n",
      "RMSE on  test  set: 1.5627121971808704\n"
     ]
    }
   ],
   "source": [
    "RMSE_group(Id_train, y_train, yhat_train, 'train')\n",
    "RMSE_group(Id_val, y_val, yhat_val, 'validation')\n",
    "RMSE_group(Id_test, y_test, yhat_test, 'test')"
   ]
  },
  {
   "cell_type": "code",
   "execution_count": null,
   "metadata": {},
   "outputs": [],
   "source": []
  }
 ],
 "metadata": {
  "kernelspec": {
   "display_name": "Python 3",
   "language": "python",
   "name": "python3"
  },
  "language_info": {
   "codemirror_mode": {
    "name": "ipython",
    "version": 3
   },
   "file_extension": ".py",
   "mimetype": "text/x-python",
   "name": "python",
   "nbconvert_exporter": "python",
   "pygments_lexer": "ipython3",
   "version": "3.7.0"
  }
 },
 "nbformat": 4,
 "nbformat_minor": 2
}
