{
 "cells": [
  {
   "cell_type": "markdown",
   "metadata": {
    "_cell_guid": "b1076dfc-b9ad-4769-8c92-a6c4dae69d19",
    "_uuid": "8f2839f25d086af736a60e9eeb907d3b93b6e0e5"
   },
   "source": [
    "# Preprocessing 3"
   ]
  },
  {
   "cell_type": "markdown",
   "metadata": {},
   "source": [
    "In this notebook, we will process the data by using preprocessing method 1, as shown below:\n",
    "- Import the data from Preprocessing 1;\n",
    "- Select features by PCA."
   ]
  },
  {
   "cell_type": "markdown",
   "metadata": {},
   "source": [
    "Import the libraries:"
   ]
  },
  {
   "cell_type": "code",
   "execution_count": 1,
   "metadata": {},
   "outputs": [],
   "source": [
    "import numpy as np \n",
    "import pandas as pd \n",
    "import json \n",
    "import matplotlib.pyplot as plt \n",
    "import seaborn as sns \n",
    "import random\n",
    "import os\n",
    "import gc\n",
    "from ast import literal_eval\n",
    "from pandas.io.json import json_normalize\n",
    "from sklearn.preprocessing import LabelEncoder\n",
    "from sklearn.preprocessing import StandardScaler\n",
    "from sklearn.decomposition import PCA"
   ]
  },
  {
   "cell_type": "markdown",
   "metadata": {
    "_uuid": "ef47cb1483042d887e61abb13fc5d6468a24fb26"
   },
   "source": [
    "## 1. Read Input"
   ]
  },
  {
   "cell_type": "code",
   "execution_count": 2,
   "metadata": {
    "_uuid": "fb70ee40bb581d514ea2ddc255b9836f0fa5f491"
   },
   "outputs": [],
   "source": [
    "df_train = pd.read_csv('train_P1.csv', dtype={'fullVisitorId': 'str'})\n",
    "df_test = pd.read_csv('test_P1.csv', dtype={'fullVisitorId': 'str'})"
   ]
  },
  {
   "cell_type": "code",
   "execution_count": 3,
   "metadata": {
    "_uuid": "406556c80078afd72923ee03891bf454f8a814d5"
   },
   "outputs": [],
   "source": [
    "Id_train = df_train['fullVisitorId']\n",
    "Id_test  = df_test['fullVisitorId']\n",
    "\n",
    "y_train = df_train['totals.transactionRevenue']\n",
    "X_train = df_train.drop(['fullVisitorId', 'totals.transactionRevenue'], axis=1)\n",
    "y_test = df_test['totals.transactionRevenue']\n",
    "X_test = df_test.drop(['fullVisitorId', 'totals.transactionRevenue'], axis=1)\n",
    "\n",
    "del df_train\n",
    "del df_test"
   ]
  },
  {
   "cell_type": "markdown",
   "metadata": {
    "_uuid": "8c4e92d776c1fadd93eced852984e277c641b8d8"
   },
   "source": [
    "## 2. PCA"
   ]
  },
  {
   "cell_type": "code",
   "execution_count": 4,
   "metadata": {
    "_uuid": "a2e34c0636bd12117cddfdb4da9629bade4a97c4"
   },
   "outputs": [],
   "source": [
    "# standarization:\n",
    "col_name = X_train.columns\n",
    "\n",
    "scaler = StandardScaler()\n",
    "scaler.fit(X_train)\n",
    "X_train = pd.DataFrame(scaler.transform(X_train), columns = col_name)\n",
    "X_test = pd.DataFrame(scaler.transform(X_test), columns = col_name)"
   ]
  },
  {
   "cell_type": "code",
   "execution_count": 5,
   "metadata": {
    "_uuid": "135b4d1ed979eb13a1e66a0a5e1a70a52719833b"
   },
   "outputs": [
    {
     "name": "stdout",
     "output_type": "stream",
     "text": [
      "0.9564202597390375\n"
     ]
    },
    {
     "data": {
      "image/png": "[encoded data removed]",
      "text/plain": [
       "<Figure size 432x288 with 1 Axes>"
      ]
     },
     "metadata": {
      "needs_background": "light"
     },
     "output_type": "display_data"
    }
   ],
   "source": [
    "pca = PCA(n_components=20)\n",
    "pca.fit(X_train)\n",
    "\n",
    "#print(pca.components_)\n",
    "#print(pca.explained_variance_ratio_)  \n",
    "plt.bar(range(1,pca.n_components_+1),pca.explained_variance_ratio_)\n",
    "print(sum(pca.explained_variance_ratio_))"
   ]
  },
  {
   "cell_type": "code",
   "execution_count": 6,
   "metadata": {
    "_uuid": "5f1579ebb568eea952099ca6ed68641c6d646665"
   },
   "outputs": [
    {
     "data": {
      "text/html": [
       "<div>\n",
       "<style scoped>\n",
       "    .dataframe tbody tr th:only-of-type {\n",
       "        vertical-align: middle;\n",
       "    }\n",
       "\n",
       "    .dataframe tbody tr th {\n",
       "        vertical-align: top;\n",
       "    }\n",
       "\n",
       "    .dataframe thead th {\n",
       "        text-align: right;\n",
       "    }\n",
       "</style>\n",
       "<table border=\"1\" class=\"dataframe\">\n",
       "  <thead>\n",
       "    <tr style=\"text-align: right;\">\n",
       "      <th></th>\n",
       "      <th>0</th>\n",
       "      <th>1</th>\n",
       "      <th>2</th>\n",
       "      <th>3</th>\n",
       "      <th>4</th>\n",
       "      <th>5</th>\n",
       "      <th>6</th>\n",
       "      <th>7</th>\n",
       "      <th>8</th>\n",
       "      <th>9</th>\n",
       "      <th>10</th>\n",
       "      <th>11</th>\n",
       "      <th>12</th>\n",
       "      <th>13</th>\n",
       "      <th>14</th>\n",
       "      <th>15</th>\n",
       "      <th>16</th>\n",
       "      <th>17</th>\n",
       "      <th>18</th>\n",
       "      <th>19</th>\n",
       "    </tr>\n",
       "  </thead>\n",
       "  <tbody>\n",
       "    <tr>\n",
       "      <th>0</th>\n",
       "      <td>0.012027</td>\n",
       "      <td>3.338134</td>\n",
       "      <td>0.295667</td>\n",
       "      <td>-0.456715</td>\n",
       "      <td>0.246142</td>\n",
       "      <td>0.286117</td>\n",
       "      <td>1.491805</td>\n",
       "      <td>1.592432</td>\n",
       "      <td>0.363003</td>\n",
       "      <td>0.957084</td>\n",
       "      <td>-0.009980</td>\n",
       "      <td>-0.854108</td>\n",
       "      <td>1.748194</td>\n",
       "      <td>1.208618</td>\n",
       "      <td>-0.419929</td>\n",
       "      <td>0.325077</td>\n",
       "      <td>-0.665311</td>\n",
       "      <td>-1.678565</td>\n",
       "      <td>-0.288825</td>\n",
       "      <td>1.680678</td>\n",
       "    </tr>\n",
       "    <tr>\n",
       "      <th>1</th>\n",
       "      <td>-0.520369</td>\n",
       "      <td>6.141752</td>\n",
       "      <td>0.537313</td>\n",
       "      <td>1.747801</td>\n",
       "      <td>0.917086</td>\n",
       "      <td>0.583966</td>\n",
       "      <td>1.176262</td>\n",
       "      <td>-1.317415</td>\n",
       "      <td>-1.345987</td>\n",
       "      <td>0.442763</td>\n",
       "      <td>-0.162727</td>\n",
       "      <td>-0.230581</td>\n",
       "      <td>1.759808</td>\n",
       "      <td>2.286625</td>\n",
       "      <td>0.146474</td>\n",
       "      <td>-0.453808</td>\n",
       "      <td>0.318238</td>\n",
       "      <td>-0.494521</td>\n",
       "      <td>0.546200</td>\n",
       "      <td>-0.614547</td>\n",
       "    </tr>\n",
       "    <tr>\n",
       "      <th>2</th>\n",
       "      <td>0.088720</td>\n",
       "      <td>3.572744</td>\n",
       "      <td>2.050120</td>\n",
       "      <td>-0.831300</td>\n",
       "      <td>0.117791</td>\n",
       "      <td>-1.118027</td>\n",
       "      <td>1.525533</td>\n",
       "      <td>0.189378</td>\n",
       "      <td>0.937600</td>\n",
       "      <td>0.622872</td>\n",
       "      <td>-0.345613</td>\n",
       "      <td>-0.769959</td>\n",
       "      <td>1.804840</td>\n",
       "      <td>1.472383</td>\n",
       "      <td>-0.122623</td>\n",
       "      <td>0.035224</td>\n",
       "      <td>-0.519791</td>\n",
       "      <td>-0.483975</td>\n",
       "      <td>-1.121518</td>\n",
       "      <td>1.241482</td>\n",
       "    </tr>\n",
       "    <tr>\n",
       "      <th>3</th>\n",
       "      <td>-0.448192</td>\n",
       "      <td>4.177313</td>\n",
       "      <td>2.440956</td>\n",
       "      <td>0.620565</td>\n",
       "      <td>-0.425878</td>\n",
       "      <td>-0.428098</td>\n",
       "      <td>1.681464</td>\n",
       "      <td>-1.148475</td>\n",
       "      <td>-1.773203</td>\n",
       "      <td>0.621575</td>\n",
       "      <td>0.112697</td>\n",
       "      <td>-0.401945</td>\n",
       "      <td>1.770013</td>\n",
       "      <td>1.621897</td>\n",
       "      <td>0.446804</td>\n",
       "      <td>-0.198885</td>\n",
       "      <td>0.302614</td>\n",
       "      <td>-0.263200</td>\n",
       "      <td>-1.208721</td>\n",
       "      <td>1.292224</td>\n",
       "    </tr>\n",
       "    <tr>\n",
       "      <th>4</th>\n",
       "      <td>-0.652444</td>\n",
       "      <td>5.440682</td>\n",
       "      <td>0.158325</td>\n",
       "      <td>1.690659</td>\n",
       "      <td>0.189841</td>\n",
       "      <td>0.525211</td>\n",
       "      <td>1.180414</td>\n",
       "      <td>-0.763376</td>\n",
       "      <td>-1.583939</td>\n",
       "      <td>0.621903</td>\n",
       "      <td>-0.071904</td>\n",
       "      <td>-0.483455</td>\n",
       "      <td>1.675751</td>\n",
       "      <td>1.798462</td>\n",
       "      <td>0.212455</td>\n",
       "      <td>-0.296666</td>\n",
       "      <td>0.131880</td>\n",
       "      <td>-0.097542</td>\n",
       "      <td>-0.969261</td>\n",
       "      <td>0.965505</td>\n",
       "    </tr>\n",
       "  </tbody>\n",
       "</table>\n",
       "</div>"
      ],
      "text/plain": [
       "         0         1         2         3         4         5         6   \\\n",
       "0  0.012027  3.338134  0.295667 -0.456715  0.246142  0.286117  1.491805   \n",
       "1 -0.520369  6.141752  0.537313  1.747801  0.917086  0.583966  1.176262   \n",
       "2  0.088720  3.572744  2.050120 -0.831300  0.117791 -1.118027  1.525533   \n",
       "3 -0.448192  4.177313  2.440956  0.620565 -0.425878 -0.428098  1.681464   \n",
       "4 -0.652444  5.440682  0.158325  1.690659  0.189841  0.525211  1.180414   \n",
       "\n",
       "         7         8         9         10        11        12        13  \\\n",
       "0  1.592432  0.363003  0.957084 -0.009980 -0.854108  1.748194  1.208618   \n",
       "1 -1.317415 -1.345987  0.442763 -0.162727 -0.230581  1.759808  2.286625   \n",
       "2  0.189378  0.937600  0.622872 -0.345613 -0.769959  1.804840  1.472383   \n",
       "3 -1.148475 -1.773203  0.621575  0.112697 -0.401945  1.770013  1.621897   \n",
       "4 -0.763376 -1.583939  0.621903 -0.071904 -0.483455  1.675751  1.798462   \n",
       "\n",
       "         14        15        16        17        18        19  \n",
       "0 -0.419929  0.325077 -0.665311 -1.678565 -0.288825  1.680678  \n",
       "1  0.146474 -0.453808  0.318238 -0.494521  0.546200 -0.614547  \n",
       "2 -0.122623  0.035224 -0.519791 -0.483975 -1.121518  1.241482  \n",
       "3  0.446804 -0.198885  0.302614 -0.263200 -1.208721  1.292224  \n",
       "4  0.212455 -0.296666  0.131880 -0.097542 -0.969261  0.965505  "
      ]
     },
     "execution_count": 6,
     "metadata": {},
     "output_type": "execute_result"
    }
   ],
   "source": [
    "Xpca_train=pd.DataFrame(pca.fit_transform(X_train))\n",
    "Xpca_test=pd.DataFrame(pca.fit_transform(X_test))\n",
    "Xpca_train.head()"
   ]
  },
  {
   "cell_type": "markdown",
   "metadata": {
    "_uuid": "7a607fbd76b8447de0648367111a621e07f769d3"
   },
   "source": [
    "## 3. Output Preprocessed Data"
   ]
  },
  {
   "cell_type": "code",
   "execution_count": 7,
   "metadata": {
    "_uuid": "7b1ea49bba4875283a8b44178262b5297e2c8ee5"
   },
   "outputs": [],
   "source": [
    "Xpca_train['fullVisitorId'] = Id_train\n",
    "Xpca_test['fullVisitorId'] = Id_test\n",
    "Xpca_train['totals.transactionRevenue'] = y_train\n",
    "Xpca_test['totals.transactionRevenue'] = y_test\n",
    "\n",
    "df_train=Xpca_train\n",
    "df_test=Xpca_test"
   ]
  },
  {
   "cell_type": "code",
   "execution_count": null,
   "metadata": {
    "_uuid": "8d56d8e2d2a6d8cd284d968689dff7eff3428276"
   },
   "outputs": [],
   "source": [
    "df_train.to_csv('train_P3.csv', index=False)\n",
    "print('Output preprocessed training set done.')\n",
    "df_test.to_csv('test_P3.csv', index=False)\n",
    "print('Output preprocessed test set done.')"
   ]
  },
  {
   "cell_type": "code",
   "execution_count": null,
   "metadata": {
    "_uuid": "d89b903ea61bf590a4664a6f147c965f33a531e6"
   },
   "outputs": [],
   "source": []
  }
 ],
 "metadata": {
  "kernelspec": {
   "display_name": "Python 3",
   "language": "python",
   "name": "python3"
  },
  "language_info": {
   "codemirror_mode": {
    "name": "ipython",
    "version": 3
   },
   "file_extension": ".py",
   "mimetype": "text/x-python",
   "name": "python",
   "nbconvert_exporter": "python",
   "pygments_lexer": "ipython3",
   "version": "3.7.0"
  }
 },
 "nbformat": 4,
 "nbformat_minor": 2
}
